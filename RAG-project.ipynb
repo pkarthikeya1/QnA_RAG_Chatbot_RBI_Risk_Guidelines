{
 "cells": [
  {
   "cell_type": "code",
   "execution_count": 12,
   "metadata": {},
   "outputs": [
    {
     "data": {
      "text/plain": [
       "True"
      ]
     },
     "execution_count": 12,
     "metadata": {},
     "output_type": "execute_result"
    }
   ],
   "source": [
    "import os\n",
    "import warnings\n",
    "from dotenv import load_dotenv\n",
    "\n",
    "os.environ['KMP_DUPLICATE_LIB_OK']=\"True\"\n",
    "warnings.filterwarnings('ignore')\n",
    "load_dotenv()"
   ]
  },
  {
   "cell_type": "markdown",
   "metadata": {},
   "source": [
    "### Document Loading"
   ]
  },
  {
   "cell_type": "code",
   "execution_count": 3,
   "metadata": {},
   "outputs": [],
   "source": [
    "from langchain_community.document_loaders import PyMuPDFLoader\n",
    "\n",
    "\n",
    "pdf_list = []\n",
    "\n",
    "for root,dir,files in os.walk(\"data\"):\n",
    "    for file in files:\n",
    "        if file.endswith(\"pdf\"):\n",
    "            pdf_list.append(os.path.join(root,file))"
   ]
  },
  {
   "cell_type": "code",
   "execution_count": 4,
   "metadata": {},
   "outputs": [
    {
     "data": {
      "text/plain": [
       "'Risk Management Systems in Banks\\nIntroduction\\nBanks in the process of financial intermediation are confronted with various kinds of financial\\nand non-financial risks viz., credit, interest rate, foreign exchange rate, liquidity, equity price,\\ncommodity price, legal, regulatory, reputational, operational, etc. These risks are highly\\ninterdependent and events that affect one area of risk can have ramifications for a range of other\\nrisk categories. Thus, top management of banks should attach considerable importance to\\nimprove the ability to identify, measure, monitor and control the overall level of risks\\nundertaken.\\nThe broad parameters of risk management function should encompass:\\ni) \\norganisational structure;\\nii) \\ncomprehensive risk measurement approach;\\niii) \\nrisk management policies approved by the Board which should be consistent with the\\nbroader business strategies, capital strength, management expertise and overall\\nwillingness to assume risk;\\niv) \\nguidelines and other parameters used to govern risk taking including detailed structure of\\nprudential limits;\\nv) \\nstrong MIS for reporting, monitoring and controlling risks;\\nvi) \\nwell laid out procedures, effective control and comprehensive risk reporting framework;\\nvii) \\nseparate risk management framework independent of operational Departments and with\\nclear delineation of levels of responsibility for management of  risk;  and\\nviii) \\nperiodical review and evaluation.\\n2.   Risk Management Structure\\n2.1 A major issue in establishing an appropriate risk management organisation structure is\\nchoosing between a centralised and decentralised structure.  The global trend is towards\\ncentralising risk management with integrated treasury management function to benefit from\\ninformation on aggregate exposure, natural netting of exposures, economies of scale and easier\\nreporting to top management. The primary responsibility of understanding the risks run by the\\nbank and ensuring that the risks are appropriately managed should clearly be vested with the\\nBoard of Directors.  The Board should set risk limits by assessing the bank’s risk and risk-\\nbearing capacity. At organisational level, overall risk management should be assigned to an\\nindependent Risk Management Committee or Executive Committee of the top Executives that\\nreports directly to the Board of Directors. The purpose of this top level committee is to empower\\none group with full responsibility of evaluating overall risks faced by the bank and determining\\nthe level of risks which will be in the best interest of the bank. At the same time, the Committee\\nshould hold the line management more accountable for the risks under their control, and the\\nperformance of the bank in that area.  The functions of Risk Management Committee should\\nessentially be to identify, monitor and measure the risk profile of the bank.  The Committee\\nshould also develop policies and procedures, verify the models that are used for pricing complex\\nproducts, review the risk models as development takes place in the markets and also identify new\\nrisks.  The risk policies should clearly spell out the quantitative prudential limits on various\\nsegments of banks’ operations.  Internationally, the trend is towards assigning risk limits in terms\\nof portfolio standards or Credit at Risk (credit risk) and Earnings at Risk and Value at Risk\\n(market risk). The Committee should design stress scenarios to measure the impact of unusual'"
      ]
     },
     "execution_count": 4,
     "metadata": {},
     "output_type": "execute_result"
    }
   ],
   "source": [
    "loader = PyMuPDFLoader(pdf_list[0])\n",
    "pdf = loader.load()\n",
    "pdf[0].page_content"
   ]
  },
  {
   "cell_type": "code",
   "execution_count": 5,
   "metadata": {},
   "outputs": [],
   "source": [
    "docs = []\n",
    "\n",
    "for pdf in pdf_list:\n",
    "    pdf_loader = PyMuPDFLoader(pdf)\n",
    "    temp = pdf_loader.load()\n",
    "    docs.extend(temp)"
   ]
  },
  {
   "cell_type": "code",
   "execution_count": 6,
   "metadata": {},
   "outputs": [],
   "source": [
    "from langchain_text_splitters import RecursiveCharacterTextSplitter\n",
    "\n",
    "text_splitter = RecursiveCharacterTextSplitter(chunk_size=1000, chunk_overlap=200)\n",
    "\n",
    "chunks = text_splitter.split_documents(docs)\n"
   ]
  },
  {
   "cell_type": "code",
   "execution_count": 8,
   "metadata": {},
   "outputs": [
    {
     "data": {
      "text/plain": [
       "(186, 654)"
      ]
     },
     "execution_count": 8,
     "metadata": {},
     "output_type": "execute_result"
    }
   ],
   "source": [
    "import tiktoken\n",
    "\n",
    "encoding = tiktoken.encoding_for_model(\"gpt-4o-mini\")\n",
    "\n",
    "len(encoding.encode(chunks[0].page_content)),len(encoding.encode(docs[0].page_content))"
   ]
  },
  {
   "cell_type": "markdown",
   "metadata": {},
   "source": [
    "### Document vector embeddings"
   ]
  },
  {
   "cell_type": "code",
   "execution_count": 9,
   "metadata": {},
   "outputs": [],
   "source": [
    "from langchain_ollama import OllamaEmbeddings\n",
    "\n",
    "import faiss\n",
    "from langchain_community.vectorstores import FAISS\n",
    "from langchain_community.docstore.in_memory import InMemoryDocstore"
   ]
  },
  {
   "cell_type": "code",
   "execution_count": 15,
   "metadata": {},
   "outputs": [],
   "source": [
    "base_url= \"127.0.0.1:11434\"\n",
    "\n",
    "embeddings = OllamaEmbeddings(model='nomic-embed-text', base_url=base_url)"
   ]
  },
  {
   "cell_type": "code",
   "execution_count": 16,
   "metadata": {},
   "outputs": [
    {
     "data": {
      "text/plain": [
       "(0, 768)"
      ]
     },
     "execution_count": 16,
     "metadata": {},
     "output_type": "execute_result"
    }
   ],
   "source": [
    "vector = embeddings.embed_query(\"Hello world\")\n",
    "\n",
    "index = faiss.IndexFlatL2(len(vector))\n",
    "index.ntotal, index.d"
   ]
  },
  {
   "cell_type": "code",
   "execution_count": 18,
   "metadata": {},
   "outputs": [],
   "source": [
    "vector_store = FAISS(\n",
    "    embedding_function=embeddings,\n",
    "    index=index,\n",
    "    docstore=InMemoryDocstore(),\n",
    "    index_to_docstore_id={}\n",
    ")"
   ]
  },
  {
   "cell_type": "code",
   "execution_count": 19,
   "metadata": {},
   "outputs": [],
   "source": [
    "ids = vector_store.add_documents(documents=chunks)"
   ]
  },
  {
   "cell_type": "code",
   "execution_count": 20,
   "metadata": {},
   "outputs": [],
   "source": [
    "ids = vector_store.add_documents(documents=chunks)"
   ]
  },
  {
   "cell_type": "markdown",
   "metadata": {},
   "source": [
    "### Retreival"
   ]
  },
  {
   "cell_type": "code",
   "execution_count": 21,
   "metadata": {},
   "outputs": [],
   "source": [
    "question = \"What are the typical financial risks?\"\n",
    "\n",
    "docs = vector_store.search(query=question, k=5, search_type='similarity')"
   ]
  },
  {
   "cell_type": "code",
   "execution_count": 22,
   "metadata": {},
   "outputs": [
    {
     "data": {
      "text/plain": [
       "[Document(id='05701300-a540-477c-ac29-80c364e0eead', metadata={'producer': 'Acrobat PDFWriter 3.02 for Windows', 'creator': 'Microsoft Word', 'creationdate': 'Wednesday, October 20, 1999 2:28:51 PM', 'source': 'data\\\\financial risk.pdf', 'file_path': 'data\\\\financial risk.pdf', 'total_pages': 25, 'format': 'PDF 1.2', 'title': 'guide-rms1.PDF', 'author': 'MAGUS', 'subject': '', 'keywords': '', 'moddate': '', 'trapped': '', 'modDate': '', 'creationDate': 'Wednesday, October 20, 1999 2:28:51 PM', 'page': 1}, page_content='3. Credit Risk\\n3.1 General\\n3.1.1  Lending involves a number of risks. In addition to the risks related to creditworthiness of\\nthe counterparty, the banks are also exposed to interest rate, forex and country risks.\\n3.1.2  Credit risk or default risk involves inability or unwillingness of a customer or counterparty\\nto meet commitments in relation to lending, trading, hedging, settlement and other financial'),\n",
       " Document(id='80b0d64a-ffb8-4ff2-848c-f4239fe00039', metadata={'producer': 'Acrobat PDFWriter 3.02 for Windows', 'creator': 'Microsoft Word', 'creationdate': 'Wednesday, October 20, 1999 2:28:51 PM', 'source': 'data\\\\financial risk.pdf', 'file_path': 'data\\\\financial risk.pdf', 'total_pages': 25, 'format': 'PDF 1.2', 'title': 'guide-rms1.PDF', 'author': 'MAGUS', 'subject': '', 'keywords': '', 'moddate': '', 'trapped': '', 'modDate': '', 'creationDate': 'Wednesday, October 20, 1999 2:28:51 PM', 'page': 1}, page_content='3. Credit Risk\\n3.1 General\\n3.1.1  Lending involves a number of risks. In addition to the risks related to creditworthiness of\\nthe counterparty, the banks are also exposed to interest rate, forex and country risks.\\n3.1.2  Credit risk or default risk involves inability or unwillingness of a customer or counterparty\\nto meet commitments in relation to lending, trading, hedging, settlement and other financial'),\n",
       " Document(id='ba80ac99-3214-4c89-9f6c-c4746e9075f1', metadata={'producer': 'Acrobat PDFWriter 3.02 for Windows', 'creator': 'Microsoft Word', 'creationdate': 'Wednesday, October 20, 1999 2:28:51 PM', 'source': 'data\\\\financial risk.pdf', 'file_path': 'data\\\\financial risk.pdf', 'total_pages': 25, 'format': 'PDF 1.2', 'title': 'guide-rms1.PDF', 'author': 'MAGUS', 'subject': '', 'keywords': '', 'moddate': '', 'trapped': '', 'modDate': '', 'creationDate': 'Wednesday, October 20, 1999 2:28:51 PM', 'page': 2}, page_content='3\\ntransactions. The Credit Risk is generally made up of transaction risk or default risk and\\nportfolio risk.  The portfolio risk in turn comprises intrinsic and concentration risk.  The credit\\nrisk of a bank’s portfolio depends on both external and internal factors.  The external factors are\\nthe state of the economy, wide swings in commodity/equity prices, foreign exchange rates and\\ninterest rates, trade restrictions, economic sanctions, Government policies, etc. The internal\\nfactors are deficiencies in loan policies/administration, absence of prudential credit concentration\\nlimits, inadequately defined lending limits for Loan Officers/Credit Committees, deficiencies in\\nappraisal of borrowers’ financial position, excessive dependence on collaterals and inadequate\\nrisk pricing, absence of loan review mechanism and post sanction surveillance, etc.\\n3.1.3  Another variant of credit risk is counterparty risk. The counterparty risk arises from non-'),\n",
       " Document(id='d8858e10-e0bb-4baf-b4ee-19b9236a7b9f', metadata={'producer': 'Acrobat PDFWriter 3.02 for Windows', 'creator': 'Microsoft Word', 'creationdate': 'Wednesday, October 20, 1999 2:28:51 PM', 'source': 'data\\\\financial risk.pdf', 'file_path': 'data\\\\financial risk.pdf', 'total_pages': 25, 'format': 'PDF 1.2', 'title': 'guide-rms1.PDF', 'author': 'MAGUS', 'subject': '', 'keywords': '', 'moddate': '', 'trapped': '', 'modDate': '', 'creationDate': 'Wednesday, October 20, 1999 2:28:51 PM', 'page': 2}, page_content='3\\ntransactions. The Credit Risk is generally made up of transaction risk or default risk and\\nportfolio risk.  The portfolio risk in turn comprises intrinsic and concentration risk.  The credit\\nrisk of a bank’s portfolio depends on both external and internal factors.  The external factors are\\nthe state of the economy, wide swings in commodity/equity prices, foreign exchange rates and\\ninterest rates, trade restrictions, economic sanctions, Government policies, etc. The internal\\nfactors are deficiencies in loan policies/administration, absence of prudential credit concentration\\nlimits, inadequately defined lending limits for Loan Officers/Credit Committees, deficiencies in\\nappraisal of borrowers’ financial position, excessive dependence on collaterals and inadequate\\nrisk pricing, absence of loan review mechanism and post sanction surveillance, etc.\\n3.1.3  Another variant of credit risk is counterparty risk. The counterparty risk arises from non-'),\n",
       " Document(id='e3531184-779e-425c-af95-0ca9a4fc4093', metadata={'producer': 'Acrobat PDFWriter 3.02 for Windows', 'creator': 'Microsoft Word', 'creationdate': 'Wednesday, October 20, 1999 2:28:51 PM', 'source': 'data\\\\financial risk.pdf', 'file_path': 'data\\\\financial risk.pdf', 'total_pages': 25, 'format': 'PDF 1.2', 'title': 'guide-rms1.PDF', 'author': 'MAGUS', 'subject': '', 'keywords': '', 'moddate': '', 'trapped': '', 'modDate': '', 'creationDate': 'Wednesday, October 20, 1999 2:28:51 PM', 'page': 0}, page_content='risks.  The risk policies should clearly spell out the quantitative prudential limits on various\\nsegments of banks’ operations.  Internationally, the trend is towards assigning risk limits in terms\\nof portfolio standards or Credit at Risk (credit risk) and Earnings at Risk and Value at Risk\\n(market risk). The Committee should design stress scenarios to measure the impact of unusual')]"
      ]
     },
     "execution_count": 22,
     "metadata": {},
     "output_type": "execute_result"
    }
   ],
   "source": [
    "docs"
   ]
  },
  {
   "cell_type": "code",
   "execution_count": 23,
   "metadata": {},
   "outputs": [],
   "source": [
    "db_name = \"financial_operations_risk_guidelines\"\n",
    "\n",
    "vector_store.save_local(db_name)"
   ]
  },
  {
   "cell_type": "code",
   "execution_count": 24,
   "metadata": {},
   "outputs": [
    {
     "data": {
      "text/plain": [
       "True"
      ]
     },
     "execution_count": 24,
     "metadata": {},
     "output_type": "execute_result"
    }
   ],
   "source": [
    "import os\n",
    "import warnings\n",
    "warnings.filterwarnings(\"ignore\")\n",
    "\n",
    "os.environ['KMP_DUPLICATE_LIB_OK'] = 'True'\n",
    "\n",
    "load_dotenv()"
   ]
  },
  {
   "cell_type": "code",
   "execution_count": 25,
   "metadata": {},
   "outputs": [],
   "source": [
    "from langchain_ollama import OllamaEmbeddings\n",
    "\n",
    "import faiss\n",
    "from langchain_community.vectorstores import FAISS\n",
    "from langchain_community.docstore.in_memory import InMemoryDocstore"
   ]
  },
  {
   "cell_type": "code",
   "execution_count": 41,
   "metadata": {},
   "outputs": [],
   "source": [
    "base_url= \"127.0.0.1:11434\"\n",
    "embeddings = OllamaEmbeddings(model='nomic-embed-text', base_url=base_url)\n",
    "\n",
    "db_name = r\"financial_operations_risk_guidelines\"\n",
    "\n",
    "vector_store = FAISS.load_local(db_name, embeddings=embeddings, allow_dangerous_deserialization=True)"
   ]
  },
  {
   "cell_type": "code",
   "execution_count": 27,
   "metadata": {},
   "outputs": [],
   "source": [
    "docs = vector_store.search(query=question, k=5, search_type='similarity')"
   ]
  },
  {
   "cell_type": "code",
   "execution_count": 28,
   "metadata": {},
   "outputs": [
    {
     "data": {
      "text/plain": [
       "[Document(id='58c4fd06-2259-4403-aac4-e5a5fafbc127', metadata={'producer': 'Acrobat PDFWriter 3.02 for Windows', 'creator': 'Microsoft Word', 'creationdate': 'Wednesday, October 20, 1999 2:28:51 PM', 'source': 'data\\\\financial risk.pdf', 'file_path': 'data\\\\financial risk.pdf', 'total_pages': 25, 'format': 'PDF 1.2', 'title': 'guide-rms1.PDF', 'author': 'MAGUS', 'subject': '', 'keywords': '', 'moddate': '', 'trapped': '', 'modDate': '', 'creationDate': 'Wednesday, October 20, 1999 2:28:51 PM', 'page': 22}, page_content='23\\n12.   Operational Risk\\n12.1 Managing operational risk is becoming an important feature of sound risk management\\npractices in modern financial markets in the wake of phenomenal increase in the volume of\\ntransactions, high degree of structural changes and complex support systems.  The most\\nimportant type of operational risk involves breakdowns in internal controls and corporate\\ngovernance. Such breakdowns can lead to financial loss through error, fraud, or failure to\\nperform in a timely manner or cause the interest of the bank to be compromised.\\n12.2 Generally, operational risk is defined as any risk, which is not categoried as market or credit\\nrisk, or the risk of loss arising from various types of human or technical error.  It is also\\nsynonymous with settlement or payments risk and business interruption, administrative and legal\\nrisks.  Operational risk has some form of link between credit and market risks.  An operational'),\n",
       " Document(id='32cd8cf8-1371-46c8-9878-4bcb9694ca4a', metadata={'producer': 'Acrobat PDFWriter 3.02 for Windows', 'creator': 'Microsoft Word', 'creationdate': 'Wednesday, October 20, 1999 2:28:51 PM', 'source': 'data\\\\financial risk.pdf', 'file_path': 'data\\\\financial risk.pdf', 'total_pages': 25, 'format': 'PDF 1.2', 'title': 'guide-rms1.PDF', 'author': 'MAGUS', 'subject': '', 'keywords': '', 'moddate': '', 'trapped': '', 'modDate': '', 'creationDate': 'Wednesday, October 20, 1999 2:28:51 PM', 'page': 22}, page_content='23\\n12.   Operational Risk\\n12.1 Managing operational risk is becoming an important feature of sound risk management\\npractices in modern financial markets in the wake of phenomenal increase in the volume of\\ntransactions, high degree of structural changes and complex support systems.  The most\\nimportant type of operational risk involves breakdowns in internal controls and corporate\\ngovernance. Such breakdowns can lead to financial loss through error, fraud, or failure to\\nperform in a timely manner or cause the interest of the bank to be compromised.\\n12.2 Generally, operational risk is defined as any risk, which is not categoried as market or credit\\nrisk, or the risk of loss arising from various types of human or technical error.  It is also\\nsynonymous with settlement or payments risk and business interruption, administrative and legal\\nrisks.  Operational risk has some form of link between credit and market risks.  An operational'),\n",
       " Document(id='8e9d80b8-19f0-476e-a915-a54d71e0ece0', metadata={'producer': 'GPL Ghostscript 8.15', 'creator': 'PScript5.dll Version 5.2.2', 'creationdate': 'D:20051018184822', 'source': 'data\\\\operations risk.pdf', 'file_path': 'data\\\\operations risk.pdf', 'total_pages': 65, 'format': 'PDF 1.3', 'title': 'Microsoft Word - 66813.doc', 'author': 'Admin', 'subject': '', 'keywords': '', 'moddate': 'D:20051018184822', 'trapped': '', 'modDate': 'D:20051018184822', 'creationDate': 'D:20051018184822', 'page': 30}, page_content='policies and procedures.\\n6.8 \\nOperational risk can be more pronounced where banks engage in new\\nactivities or develop new products (particularly where these activities or products\\nare not consistent with the bank’s core business strategies), enter unfamiliar\\nmarkets, and/or engage in businesses that are geographically distant from the\\nhead office. It is incumbent upon banks to ensure that special attention is paid to\\ninternal control activities where such conditions exist.\\n6.9 \\nIn some instances, banks may decide to either retain a certain level of\\noperational risk or self-insure against that risk. Where this is the case and the risk\\nis material, the decision to retain or self-insure the risk should be transparent\\nwithin the organisation and should be consistent with the bank’s overall business\\nstrategy and appetite for risk. The bank’s appetite as specified through the policies\\nfor managing this risk and the bank’s prioritisation of operational risk management')]"
      ]
     },
     "execution_count": 28,
     "metadata": {},
     "output_type": "execute_result"
    }
   ],
   "source": [
    "question = \"how to avoid risk in operations?\"\n",
    "\n",
    "retriever = vector_store.as_retriever(search_type = \"similarity\",\n",
    "                                      search_kwargs ={'k':3})\n",
    "\n",
    "retriever.invoke(question)"
   ]
  },
  {
   "cell_type": "markdown",
   "metadata": {},
   "source": [
    "### RAG with LLAMA and OLLAMA"
   ]
  },
  {
   "cell_type": "code",
   "execution_count": 29,
   "metadata": {},
   "outputs": [],
   "source": [
    "from langchain_ollama import ChatOllama\n",
    "from langchain_core.output_parsers import StrOutputParser\n",
    "from langchain_core.runnables import RunnablePassthrough\n",
    "from langchain_core.prompts import ChatPromptTemplate\n",
    "\n",
    "from langchain import hub\n"
   ]
  },
  {
   "cell_type": "code",
   "execution_count": 32,
   "metadata": {},
   "outputs": [
    {
     "data": {
      "text/plain": [
       "ChatPromptTemplate(input_variables=['context', 'question'], input_types={}, partial_variables={}, messages=[HumanMessagePromptTemplate(prompt=PromptTemplate(input_variables=['context', 'question'], input_types={}, partial_variables={}, template='\"\\nYou are an assistant for question-answering tasks on Reserve Bank of India Finanacial and Operations Risk Guidelines. Use the following pieces of retrieved context to answer the question.\\nIf you don\\'t know the answer, just say that you don\\'t know.\\nAnswer in bullet points. Make sure your answer is relevant to the question and it is answered from context only.\\nQuestion: {question} \\nContext: {context} \\nAnswer:'), additional_kwargs={})])"
      ]
     },
     "execution_count": 32,
     "metadata": {},
     "output_type": "execute_result"
    }
   ],
   "source": [
    "# prompt = \"\"\"\"\n",
    "# You are an assistant for question-answering tasks. Use the following pieces of retrieved context to answer the question. If you don't know the answer, just say that you don't know. Use three sentences maximum and keep the answer concise.\n",
    "# Question: {question} \n",
    "# Context: {context} \n",
    "# Answer:\"\"\"\n",
    "\n",
    "prompt = \"\"\"\"\n",
    "You are an assistant for question-answering tasks on Reserve Bank of India Finanacial and Operations Risk Guidelines. Use the following pieces of retrieved context to answer the question.\n",
    "If you don't know the answer, just say that you don't know.\n",
    "Answer in bullet points. Make sure your answer is relevant to the question and it is answered from context only.\n",
    "Question: {question} \n",
    "Context: {context} \n",
    "Answer:\"\"\"\n",
    "prompt = ChatPromptTemplate.from_template(prompt)\n",
    "prompt"
   ]
  },
  {
   "cell_type": "code",
   "execution_count": 31,
   "metadata": {},
   "outputs": [
    {
     "data": {
      "text/plain": [
       "AIMessage(content='How can I assist you today?', additional_kwargs={}, response_metadata={'model': 'llama3.2:latest', 'created_at': '2025-02-09T06:03:32.5835001Z', 'done': True, 'done_reason': 'stop', 'total_duration': 7548741100, 'load_duration': 6977200400, 'prompt_eval_count': 26, 'prompt_eval_duration': 369000000, 'eval_count': 8, 'eval_duration': 200000000, 'message': Message(role='assistant', content='', images=None, tool_calls=None)}, id='run-d1cad937-4fe6-40f7-a0f3-cd4bd5ee44ce-0', usage_metadata={'input_tokens': 26, 'output_tokens': 8, 'total_tokens': 34})"
      ]
     },
     "execution_count": 31,
     "metadata": {},
     "output_type": "execute_result"
    }
   ],
   "source": [
    "llm = ChatOllama(model=\"llama3.2:latest\", base_url=base_url)\n",
    "\n",
    "llm.invoke(\"Hi\")"
   ]
  },
  {
   "cell_type": "code",
   "execution_count": 35,
   "metadata": {},
   "outputs": [],
   "source": [
    "def format_docs(docs):\n",
    "    return \"\\n\\n\".join([doc.page_content for doc in docs])\n",
    "\n",
    "context = format_docs(docs)\n",
    "# print(context)"
   ]
  },
  {
   "cell_type": "code",
   "execution_count": 36,
   "metadata": {},
   "outputs": [],
   "source": [
    "rag_chain = (\n",
    "    {'context': retriever|format_docs, \"question\": RunnablePassthrough()}\n",
    "    | prompt\n",
    "    | llm\n",
    "    | StrOutputParser()\n",
    ")"
   ]
  },
  {
   "cell_type": "code",
   "execution_count": 39,
   "metadata": {},
   "outputs": [
    {
     "name": "stdout",
     "output_type": "stream",
     "text": [
      "Here are some key points on how to avoid risk in operations from the context:\n",
      "\n",
      "• Implementing effective internal controls and corporate governance can help prevent breakdowns that lead to financial loss through error, fraud, or failure to perform.\n",
      "• Developing and regularly updating policies and procedures can mitigate operational risk.\n",
      "• Ensuring special attention is paid to internal control activities when engaging in new activities, developing new products, entering unfamiliar markets, or engaging in businesses that are geographically distant from the head office.\n",
      "• Being transparent about material operational risks and ensuring they align with the bank's overall business strategy and appetite for risk can help avoid retaining or self-insuring such risks.\n"
     ]
    }
   ],
   "source": [
    "question = \"how to avoid risk in operations?\"\n",
    "response = rag_chain.invoke(question)\n",
    "\n",
    "print(response)"
   ]
  },
  {
   "cell_type": "code",
   "execution_count": 40,
   "metadata": {},
   "outputs": [
    {
     "name": "stdout",
     "output_type": "stream",
     "text": [
      "Here are some pitfalls related to financial risk that can be identified:\n",
      "\n",
      "* Transaction risk or default risk in transactions\n",
      "* Portfolio risk, including intrinsic and concentration risk\n",
      "* Counterparty risk from non-transactional risks (e.g. credit risk arising from non-traditional relationships)\n",
      "* Deficiencies in:\n",
      "\t+ Loan policies/administration\n",
      "\t+ Prudential credit concentration limits\n",
      "\t+ Lending limits for Loan Officers/Credit Committees\n",
      "\t+ Appraisal of borrowers' financial position\n",
      "\t+ Excessive dependence on collaterals\n",
      "\t+ Inadequate risk pricing\n",
      "\t+ Absence of loan review mechanism and post sanction surveillance\n"
     ]
    }
   ],
   "source": [
    "question = \"What are some of the pitfalls we should look for in financial risk?\"\n",
    "response = rag_chain.invoke(question)\n",
    "\n",
    "print(response)"
   ]
  },
  {
   "cell_type": "code",
   "execution_count": 46,
   "metadata": {},
   "outputs": [],
   "source": [
    "vector_db = FAISS.from_documents(docs, embeddings)"
   ]
  },
  {
   "cell_type": "code",
   "execution_count": 47,
   "metadata": {},
   "outputs": [],
   "source": [
    "from langchain.chains import ConversationalRetrievalChain\n",
    "\n",
    "qa = ConversationalRetrievalChain.from_llm(llm=llm, \n",
    "                                    chain_type=\"stuff\",\\\n",
    "                                    retriever=vector_db.as_retriever())"
   ]
  },
  {
   "cell_type": "code",
   "execution_count": null,
   "metadata": {},
   "outputs": [],
   "source": []
  },
  {
   "cell_type": "code",
   "execution_count": 49,
   "metadata": {},
   "outputs": [
    {
     "data": {
      "text/plain": [
       "{'question': 'What are some of the pitfalls we should look for in financial risk?',\n",
       " 'chat_history': [],\n",
       " 'answer': \"Based on the provided context, here are some potential pitfalls to watch out for in financial risk:\\n\\n1. **Lack of clear risk policies**: Insufficient or unclear risk management policies can lead to inadequate controls and a lack of transparency.\\n2. **Inadequate credit assessment**: Failing to properly assess borrowers' financial positions can result in lending decisions that become unprofitable or even lead to defaults.\\n3. **Excessive dependence on collaterals**: Over-reliance on collateral as a means of securing loans can lead to high risks if the collateral is insufficient or becomes illiquid during market downturns.\\n4. **Inadequate risk pricing**: Failing to price risks accurately can result in inadequate premiums for credit-risky transactions, leading to excessive exposure to potential losses.\\n5. **Lack of loan review mechanism and post-sanction surveillance**: Inadequate oversight and monitoring of loans can lead to missed opportunities to correct problems before they become major issues.\\n6. **Unstable economic conditions**: Banks exposed to external factors such as economic sanctions, government policies, trade restrictions, commodity/equity price swings, and interest rates may be more susceptible to financial instability.\\n7. **Counterparty risk**: Failing to properly assess the creditworthiness of counterparties can result in losses due to non-payment or default.\\n\\nThese are just some potential pitfalls identified from the provided context. It's essential to note that this is not an exhaustive list, and banks should be vigilant in monitoring their financial risks continuously.\"}"
      ]
     },
     "execution_count": 49,
     "metadata": {},
     "output_type": "execute_result"
    }
   ],
   "source": [
    "qa.invoke({'question':question, 'chat_history':[]})"
   ]
  },
  {
   "cell_type": "code",
   "execution_count": null,
   "metadata": {},
   "outputs": [],
   "source": []
  }
 ],
 "metadata": {
  "kernelspec": {
   "display_name": "Python 3",
   "language": "python",
   "name": "python3"
  },
  "language_info": {
   "codemirror_mode": {
    "name": "ipython",
    "version": 3
   },
   "file_extension": ".py",
   "mimetype": "text/x-python",
   "name": "python",
   "nbconvert_exporter": "python",
   "pygments_lexer": "ipython3",
   "version": "3.12.4"
  }
 },
 "nbformat": 4,
 "nbformat_minor": 2
}
